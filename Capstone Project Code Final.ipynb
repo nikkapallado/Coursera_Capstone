{
    "cells": [
        {
            "cell_type": "markdown",
            "metadata": {
                "collapsed": true
            },
            "source": "## Installing necessary libraries"
        },
        {
            "cell_type": "code",
            "execution_count": 1,
            "metadata": {},
            "outputs": [
                {
                    "name": "stdout",
                    "output_type": "stream",
                    "text": "Requirement already satisfied: BeautifulSoup4 in /opt/conda/envs/Python-3.7-main/lib/python3.7/site-packages (4.9.1)\nRequirement already satisfied: soupsieve>1.2 in /opt/conda/envs/Python-3.7-main/lib/python3.7/site-packages (from BeautifulSoup4) (2.0.1)\nRequirement already satisfied: folium in /opt/conda/envs/Python-3.7-main/lib/python3.7/site-packages (0.12.1)\nRequirement already satisfied: requests in /opt/conda/envs/Python-3.7-main/lib/python3.7/site-packages (from folium) (2.24.0)\nRequirement already satisfied: branca>=0.3.0 in /opt/conda/envs/Python-3.7-main/lib/python3.7/site-packages (from folium) (0.4.2)\nRequirement already satisfied: numpy in /opt/conda/envs/Python-3.7-main/lib/python3.7/site-packages (from folium) (1.18.5)\nRequirement already satisfied: jinja2>=2.9 in /opt/conda/envs/Python-3.7-main/lib/python3.7/site-packages (from folium) (2.11.2)\nRequirement already satisfied: chardet<4,>=3.0.2 in /opt/conda/envs/Python-3.7-main/lib/python3.7/site-packages (from requests->folium) (3.0.4)\nRequirement already satisfied: certifi>=2017.4.17 in /opt/conda/envs/Python-3.7-main/lib/python3.7/site-packages (from requests->folium) (2020.12.5)\nRequirement already satisfied: idna<3,>=2.5 in /opt/conda/envs/Python-3.7-main/lib/python3.7/site-packages (from requests->folium) (2.9)\nRequirement already satisfied: urllib3!=1.25.0,!=1.25.1,<1.26,>=1.21.1 in /opt/conda/envs/Python-3.7-main/lib/python3.7/site-packages (from requests->folium) (1.25.9)\nRequirement already satisfied: MarkupSafe>=0.23 in /opt/conda/envs/Python-3.7-main/lib/python3.7/site-packages (from jinja2>=2.9->folium) (1.1.1)\nRequirement already satisfied: geocoder in /opt/conda/envs/Python-3.7-main/lib/python3.7/site-packages (1.38.1)\nRequirement already satisfied: six in /opt/conda/envs/Python-3.7-main/lib/python3.7/site-packages (from geocoder) (1.15.0)\nRequirement already satisfied: future in /opt/conda/envs/Python-3.7-main/lib/python3.7/site-packages (from geocoder) (0.18.2)\nRequirement already satisfied: click in /opt/conda/envs/Python-3.7-main/lib/python3.7/site-packages (from geocoder) (7.1.2)\nRequirement already satisfied: ratelim in /opt/conda/envs/Python-3.7-main/lib/python3.7/site-packages (from geocoder) (0.1.6)\nRequirement already satisfied: requests in /opt/conda/envs/Python-3.7-main/lib/python3.7/site-packages (from geocoder) (2.24.0)\nRequirement already satisfied: decorator in /opt/conda/envs/Python-3.7-main/lib/python3.7/site-packages (from ratelim->geocoder) (4.4.2)\nRequirement already satisfied: certifi>=2017.4.17 in /opt/conda/envs/Python-3.7-main/lib/python3.7/site-packages (from requests->geocoder) (2020.12.5)\nRequirement already satisfied: urllib3!=1.25.0,!=1.25.1,<1.26,>=1.21.1 in /opt/conda/envs/Python-3.7-main/lib/python3.7/site-packages (from requests->geocoder) (1.25.9)\nRequirement already satisfied: chardet<4,>=3.0.2 in /opt/conda/envs/Python-3.7-main/lib/python3.7/site-packages (from requests->geocoder) (3.0.4)\nRequirement already satisfied: idna<3,>=2.5 in /opt/conda/envs/Python-3.7-main/lib/python3.7/site-packages (from requests->geocoder) (2.9)\n"
                }
            ],
            "source": "#Installing necessary libraries\n!pip install BeautifulSoup4\n!pip install folium\n!pip install geocoder"
        },
        {
            "cell_type": "markdown",
            "metadata": {},
            "source": "## Importing libraries needed"
        },
        {
            "cell_type": "code",
            "execution_count": 2,
            "metadata": {},
            "outputs": [],
            "source": "from bs4 import BeautifulSoup\nimport pandas as pd\nimport requests\nimport folium\nfrom geopy.geocoders import Nominatim\nimport numpy as np\nfrom project_lib import Project\n%matplotlib inline \nimport matplotlib as mpl\nimport matplotlib.pyplot as plt\nmpl.style.use('ggplot') # optional: for ggplot-like style\nfrom sklearn.preprocessing import MinMaxScaler\nfrom sklearn.neighbors import KNeighborsClassifier\nfrom sklearn.metrics import accuracy_score\nfrom sklearn.cluster import KMeans \nfrom scipy.spatial.distance import cdist \nimport seaborn as sns"
        },
        {
            "cell_type": "markdown",
            "metadata": {},
            "source": "## Data scraping zip codes of cities and municipalities in Iloilo province"
        },
        {
            "cell_type": "code",
            "execution_count": 3,
            "metadata": {},
            "outputs": [],
            "source": "url = \"https://sites.google.com/site/departmentofphilippines/philippine-zip-codes/provincial-zip-codes/iloilo-zip-codes\"\n\n# makes a request to the web page and gets its HTML\nr = requests.get(url)\n\n# stores the HTML page in 'soup', a BeautifulSoup object\nsoup = BeautifulSoup(r.content)"
        },
        {
            "cell_type": "code",
            "execution_count": 4,
            "metadata": {},
            "outputs": [
                {
                    "data": {
                        "text/html": "<div>\n<style scoped>\n    .dataframe tbody tr th:only-of-type {\n        vertical-align: middle;\n    }\n\n    .dataframe tbody tr th {\n        vertical-align: top;\n    }\n\n    .dataframe thead th {\n        text-align: right;\n    }\n</style>\n<table border=\"1\" class=\"dataframe\">\n  <thead>\n    <tr style=\"text-align: right;\">\n      <th></th>\n      <th>Location</th>\n      <th>Zip Code</th>\n      <th>Phone Area Code</th>\n    </tr>\n  </thead>\n  <tbody>\n    <tr>\n      <th>0</th>\n      <td>Department of Philippines</td>\n      <td>Search this site</td>\n      <td>\\n</td>\n    </tr>\n    <tr>\n      <th>1</th>\n      <td>\\nThe GovernmentDepartment of Philippines Home...</td>\n      <td>\\n\\n \\n\\nPhilippine ZIP Codes and Area Codes\u200e ...</td>\n      <td>Location\\n\\n\\nZIP Code\\n\\n\\nPhone \\n\\t\\t\\t\\t\\t...</td>\n    </tr>\n    <tr>\n      <th>2</th>\n      <td>Location\\n</td>\n      <td>\\nZIP Code\\n</td>\n      <td>\\nPhone \\n\\t\\t\\t\\t\\t\\t\\tArea Code\\n</td>\n    </tr>\n    <tr>\n      <th>3</th>\n      <td>\\n\\t\\t\\t\\t\\t\\t\\tAjuy</td>\n      <td>\\n\\t\\t\\t\\t\\t\\t\\t5012</td>\n      <td>\\n\\t\\t\\t\\t\\t\\t\\t33</td>\n    </tr>\n    <tr>\n      <th>4</th>\n      <td>\\n\\t\\t\\t\\t\\t\\t\\tAlimodian</td>\n      <td>\\n\\t\\t\\t\\t\\t\\t\\t5028</td>\n      <td>\\n\\t\\t\\t\\t\\t\\t\\t33</td>\n    </tr>\n  </tbody>\n</table>\n</div>",
                        "text/plain": "                                            Location  \\\n0                          Department of Philippines   \n1  \\nThe GovernmentDepartment of Philippines Home...   \n2                                         Location\\n   \n3                               \\n\\t\\t\\t\\t\\t\\t\\tAjuy   \n4                          \\n\\t\\t\\t\\t\\t\\t\\tAlimodian   \n\n                                            Zip Code  \\\n0                                   Search this site   \n1  \\n\\n \\n\\nPhilippine ZIP Codes and Area Codes\u200e ...   \n2                                       \\nZIP Code\\n   \n3                               \\n\\t\\t\\t\\t\\t\\t\\t5012   \n4                               \\n\\t\\t\\t\\t\\t\\t\\t5028   \n\n                                     Phone Area Code  \n0                                                 \\n  \n1  Location\\n\\n\\nZIP Code\\n\\n\\nPhone \\n\\t\\t\\t\\t\\t...  \n2                \\nPhone \\n\\t\\t\\t\\t\\t\\t\\tArea Code\\n  \n3                                 \\n\\t\\t\\t\\t\\t\\t\\t33  \n4                                 \\n\\t\\t\\t\\t\\t\\t\\t33  "
                    },
                    "execution_count": 4,
                    "metadata": {},
                    "output_type": "execute_result"
                }
            ],
            "source": "#getting necessary data in the data frame\na = []\nZip_Code_df = pd.DataFrame(columns = ['Location', 'Zip Code', 'Phone Area Code'])\nfor link in soup.find_all('td'):\n    a.append(link.get_text())\n    if len(a) == 3:\n        df_length = len(Zip_Code_df)\n        Zip_Code_df.loc[df_length] = a\n        a = []\nZip_Code_df.head()"
        },
        {
            "cell_type": "markdown",
            "metadata": {},
            "source": "## Cleaning the data frame"
        },
        {
            "cell_type": "code",
            "execution_count": 5,
            "metadata": {},
            "outputs": [
                {
                    "data": {
                        "text/html": "<div>\n<style scoped>\n    .dataframe tbody tr th:only-of-type {\n        vertical-align: middle;\n    }\n\n    .dataframe tbody tr th {\n        vertical-align: top;\n    }\n\n    .dataframe thead th {\n        text-align: right;\n    }\n</style>\n<table border=\"1\" class=\"dataframe\">\n  <thead>\n    <tr style=\"text-align: right;\">\n      <th></th>\n      <th>Location</th>\n      <th>Zip Code</th>\n    </tr>\n  </thead>\n  <tbody>\n    <tr>\n      <th>0</th>\n      <td>Ajuy</td>\n      <td>5012, Iloilo, Philippines</td>\n    </tr>\n    <tr>\n      <th>1</th>\n      <td>Alimodian</td>\n      <td>5028, Iloilo, Philippines</td>\n    </tr>\n    <tr>\n      <th>2</th>\n      <td>Anilao</td>\n      <td>5009, Iloilo, Philippines</td>\n    </tr>\n    <tr>\n      <th>3</th>\n      <td>Badiangan</td>\n      <td>5033, Iloilo, Philippines</td>\n    </tr>\n    <tr>\n      <th>4</th>\n      <td>Balasan</td>\n      <td>5018, Iloilo, Philippines</td>\n    </tr>\n  </tbody>\n</table>\n</div>",
                        "text/plain": "    Location                   Zip Code\n0       Ajuy  5012, Iloilo, Philippines\n1  Alimodian  5028, Iloilo, Philippines\n2     Anilao  5009, Iloilo, Philippines\n3  Badiangan  5033, Iloilo, Philippines\n4    Balasan  5018, Iloilo, Philippines"
                    },
                    "execution_count": 5,
                    "metadata": {},
                    "output_type": "execute_result"
                }
            ],
            "source": "#Cleaning the data frame\n\n#Removing unnecessary texts\nZip_Code_df = Zip_Code_df.replace(['\\n','\\t','\\f'],['','',''], regex=True)\n\n#Removing unnecessary rows and columns\nZip_Code_df = Zip_Code_df.drop(index=range(0,3))\nZip_Code_df = Zip_Code_df.drop(columns='Phone Area Code')\n\n#Reseting the number of indices\nZip_Code_df = Zip_Code_df.reset_index(drop=True)\n\n#Adding address for geocode\nfor i in range(len(Zip_Code_df['Zip Code'])):\n    Zip_Code_df['Zip Code'][i] = Zip_Code_df['Zip Code'][i] + ', Iloilo, Philippines'\n\nZip_Code_df.head()"
        },
        {
            "cell_type": "markdown",
            "metadata": {},
            "source": "## Getting the latitude and longitude of each municipality"
        },
        {
            "cell_type": "code",
            "execution_count": null,
            "metadata": {
                "scrolled": true
            },
            "outputs": [
                {
                    "name": "stderr",
                    "output_type": "stream",
                    "text": "/opt/conda/envs/Python-3.7-main/lib/python3.7/site-packages/ipykernel/__main__.py:10: SettingWithCopyWarning: \nA value is trying to be set on a copy of a slice from a DataFrame\n\nSee the caveats in the documentation: https://pandas.pydata.org/pandas-docs/stable/user_guide/indexing.html#returning-a-view-versus-a-copy\n/opt/conda/envs/Python-3.7-main/lib/python3.7/site-packages/ipykernel/__main__.py:11: SettingWithCopyWarning: \nA value is trying to be set on a copy of a slice from a DataFrame\n\nSee the caveats in the documentation: https://pandas.pydata.org/pandas-docs/stable/user_guide/indexing.html#returning-a-view-versus-a-copy\n"
                }
            ],
            "source": "# Adding blank columns Latitude and Longitude to Zip_Code_df data frame\nZip_Code_df['Latitude'] = np.nan\nZip_Code_df['Longitude'] = np.nan\n\n# Getting the latitude and longitude of each Location using geocoder api and appending it to the Zip_Code_df data frame\ngeolocator = Nominatim(user_agent=\"cal_explorer\")\n\nfor j in range(len(Zip_Code_df['Zip Code'])):\n    location = geolocator.geocode(Zip_Code_df['Zip Code'][j])\n    Zip_Code_df['Latitude'][j] = location.latitude\n    Zip_Code_df['Longitude'][j] = location.longitude\n    \nZip_Code_df"
        },
        {
            "cell_type": "markdown",
            "metadata": {},
            "source": "## Visualizing the map of Iloilo municipalities using folium"
        },
        {
            "cell_type": "code",
            "execution_count": null,
            "metadata": {},
            "outputs": [],
            "source": "# create map of Toronto using latitude and longitude values\nmap_iloilo = folium.Map(location=[10.6079, 123.8858], zoom_start=10)\n\n# add markers to map\nfor lat, lng, location in zip(Zip_Code_df['Latitude'], Zip_Code_df['Longitude'], Zip_Code_df['Location']):\n    label = folium.Popup(location, parse_html=True)\n    folium.CircleMarker(\n        [lat, lng],\n        radius=5,\n        popup=label,\n        color='blue',\n        fill=True,\n        fill_color='#3186cc',\n        fill_opacity=0.7,\n        parse_html=False).add_to(map_iloilo)  \n    \nmap_iloilo"
        },
        {
            "cell_type": "markdown",
            "metadata": {},
            "source": "## Getting the cluster of Passi City in the revenue count of whole Iloilo province"
        },
        {
            "cell_type": "markdown",
            "metadata": {},
            "source": "#### Visualize ranking of Passi City in terms of revenue "
        },
        {
            "cell_type": "code",
            "execution_count": null,
            "metadata": {
                "scrolled": true
            },
            "outputs": [],
            "source": "# initialize list of revenues each municipality in the province of Iloilo\ndata = [['Ajuy', 114631989.8], ['Alimodian', 101434942.8], ['Anilao', 79750981.88], ['Badiangan', 72392644.72], ['Balasan', 82613191.46], ['Banate', 86704022.88], ['Barotac Nuevo', 127638307.7], ['Barotac Viejo', 111313244.5], ['Batad', 60639876.52], ['Bingawan', 55626622.31], ['Cabatuan', 128571060.5], ['Calinog', 142242009.3], ['Carles', 130473158.4], ['Conception', 112289550.5], ['Dingle', 123694999.4], ['Due\u00f1as', 88459579.17], ['Dumangas', 143496895], ['Estancia', 112382701.2], ['Guimbal', 80622274.83], ['Igbaras', 90632128.53], ['Iloilo City', 2001709094], ['Janiuay', 149819244.8], ['Lambunao', 168550147.1], ['Leganes', 87111715.55], ['Lemery', 80905378.82], ['Leon', 123485719.9], ['Maasin', 94529817.15], ['Miagao', 151140417.9], ['Mina', 68951330.9], ['New Lucena', 66689368.74], ['Oton', 184113453.1], ['Passi', 505723102.9], ['Pavia', 153947939], ['Pototan', 157882222.8], ['San Dionisio', 89934061.87], ['San Enrique', 89111543.67], ['San Joaquin', 143220253.7], ['San Miguel', 77213213.45], ['San Rafael', 55166505.29], ['Santa Barbara', 148077053], ['Sara', 122576063], ['Tigbauan', 129228809.7], ['Tubungan', 70010056.07], ['Zarraga', 73992735.07]\n] \n  \n# Create the pandas DataFrame \nrevenues_df = pd.DataFrame(data, columns = ['Location', 'Revenue']) \n  \n# print dataframe. \nrevenues_df "
        },
        {
            "cell_type": "code",
            "execution_count": null,
            "metadata": {},
            "outputs": [],
            "source": "#Joining Zip_Code_df and revenues_df\nZip_Code_df['Revenue'] = revenues_df['Revenue']\nZip_Code_df"
        },
        {
            "cell_type": "code",
            "execution_count": null,
            "metadata": {
                "scrolled": true
            },
            "outputs": [],
            "source": "#Bar plot to check ranking of Passi City in the overall revenue of Iloilo province\nbar_df = Zip_Code_df.drop(columns=['Zip Code','Latitude','Longitude'])\nbar_df.set_index('Location', inplace=True)\nbar_df = bar_df.sort_values('Revenue',ascending=False)"
        },
        {
            "cell_type": "code",
            "execution_count": null,
            "metadata": {},
            "outputs": [],
            "source": "bar_df.plot(kind='bar', figsize=(20, 10))\n\nplt.ticklabel_format(style='plain', axis='y')\n\nplt.xlabel('Cities/Municipalities') # add to x-label to the plot\nplt.ylabel('Revenue') # add y-label to the plot\nplt.title('Rank of Cities and Municipalities in Iloilo Province by Revenue') # add title to the plot\n\nplt.show()"
        },
        {
            "cell_type": "markdown",
            "metadata": {},
            "source": "## Using Foursquare API for list of venues"
        },
        {
            "cell_type": "code",
            "execution_count": null,
            "metadata": {},
            "outputs": [],
            "source": "# The code was removed by Watson Studio for sharing."
        },
        {
            "cell_type": "code",
            "execution_count": null,
            "metadata": {},
            "outputs": [],
            "source": "def getNearbyVenues(names, latitudes, longitudes, revenue):\n    \n    venues_list=[]\n    for name, lat, lng, rev in zip(names, latitudes, longitudes, revenue):\n        print(name)\n            \n        # create the API request URL\n        url = 'https://api.foursquare.com/v2/venues/explore?&client_id={}&client_secret={}&v={}&ll={},{}'.format(\n            CLIENT_ID, \n            CLIENT_SECRET, \n            VERSION, \n            lat, \n            lng)\n            \n        # make the GET request\n        results = requests.get(url).json()['response']['groups'][0]['items']\n        \n        # return only relevant information for each nearby venue\n        venues_list.append([(\n            name, \n            lat, \n            lng,\n            rev,\n            v['venue']['name'], \n            v['venue']['location']['lat'], \n            v['venue']['location']['lng'],  \n            v['venue']['categories'][0]['name']) for v in results])\n\n    nearby_venues = pd.DataFrame([item for venue_list in venues_list for item in venue_list])\n    nearby_venues.columns = ['City/Municipality', \n                  'City/Municipality Latitude', \n                  'City/Municipality Longitude',\n                  'City/Municipality Revenue',\n                  'Venue', \n                  'Venue Latitude', \n                  'Venue Longitude', \n                  'Venue Category']\n    \n    return(nearby_venues)\n\niloilo_venues = getNearbyVenues(names=Zip_Code_df['Location'], latitudes=Zip_Code_df['Latitude'], longitudes=Zip_Code_df['Longitude'], revenue=Zip_Code_df['Revenue'])"
        },
        {
            "cell_type": "code",
            "execution_count": null,
            "metadata": {
                "scrolled": true
            },
            "outputs": [],
            "source": "#checking the results\nprint(iloilo_venues.shape)\niloilo_venues"
        },
        {
            "cell_type": "code",
            "execution_count": null,
            "metadata": {},
            "outputs": [],
            "source": "#Preparing/cleaning data to be used for K means clustering\nK_means_data = pd.DataFrame(iloilo_venues.groupby('City/Municipality').count())\nK_means_data = K_means_data.drop(['City/Municipality Latitude', 'City/Municipality Longitude', 'Venue', 'Venue Latitude', 'Venue Longitude'], axis=1)\nK_means_data['City/Municipality Revenue'] = [float(x) for x in revenues_df['Revenue']]\nK_means_data = K_means_data.reset_index()\nK_means_data"
        },
        {
            "cell_type": "code",
            "execution_count": null,
            "metadata": {
                "scrolled": true
            },
            "outputs": [],
            "source": "#Preparing/cleaning values for Dependent variable Y to be used for K means clustering\nK_means_data_Y = pd.DataFrame(K_means_data['City/Municipality'])\nK_means_data_Y"
        },
        {
            "cell_type": "code",
            "execution_count": null,
            "metadata": {},
            "outputs": [],
            "source": "#Preparing/cleaning values for Independent variable X to be used for K means clustering\nK_means_data_X = pd.DataFrame(K_means_data.loc[:,['City/Municipality Revenue', 'Venue Category']])\nK_means_data_X"
        },
        {
            "cell_type": "code",
            "execution_count": null,
            "metadata": {},
            "outputs": [],
            "source": "# Checking the distribution of Y data\nsns.distplot(K_means_data_X['Venue Category'])\nplt.ticklabel_format(style='plain')"
        },
        {
            "cell_type": "code",
            "execution_count": null,
            "metadata": {
                "scrolled": true
            },
            "outputs": [],
            "source": "sns.distplot(K_means_data_X['City/Municipality Revenue'])\nplt.ticklabel_format(style='plain')"
        },
        {
            "cell_type": "code",
            "execution_count": null,
            "metadata": {},
            "outputs": [],
            "source": "# We will normalize the Independent variables, Y using MinMax scaler to ensure that good quality clusters will be generated\nscaler = MinMaxScaler() \nK_means_data_X_scaled = pd.DataFrame(scaler.fit_transform(K_means_data_X))\nK_means_data_X_scaled.columns = K_means_data_X.columns\nK_means_data_X_scaled"
        },
        {
            "cell_type": "code",
            "execution_count": null,
            "metadata": {},
            "outputs": [],
            "source": "# We will find the best K value using the Elbow Method\ndistortions = [] \ninertias = [] \nmapping1 = {} \nmapping2 = {} \nK = range(1,10) \n  \nfor k in K: \n    #Building and fitting the model \n    kmeanModel = KMeans(n_clusters=k).fit(K_means_data_X_scaled) \n    kmeanModel.fit(K_means_data_X_scaled)     \n      \n    distortions.append(sum(np.min(cdist(K_means_data_X_scaled, kmeanModel.cluster_centers_, \n                      'euclidean'),axis=1)) / K_means_data_X_scaled.shape[0]) \n    inertias.append(kmeanModel.inertia_) \n  \n    mapping1[k] = sum(np.min(cdist(K_means_data_X_scaled, kmeanModel.cluster_centers_, \n                 'euclidean'),axis=1)) / K_means_data_X_scaled.shape[0] \n    mapping2[k] = kmeanModel.inertia_ "
        },
        {
            "cell_type": "code",
            "execution_count": null,
            "metadata": {},
            "outputs": [],
            "source": "plt.plot(K, distortions, 'bx-') \nplt.xlabel('Values of K') \nplt.ylabel('Distortion') \nplt.title('The Elbow Method using Distortion') \nplt.show() "
        },
        {
            "cell_type": "code",
            "execution_count": null,
            "metadata": {
                "scrolled": true
            },
            "outputs": [],
            "source": "plt.plot(K, inertias, 'bx-') \nplt.xlabel('Values of K') \nplt.ylabel('Inertia') \nplt.title('The Elbow Method using Inertia') \nplt.show() "
        },
        {
            "cell_type": "code",
            "execution_count": null,
            "metadata": {},
            "outputs": [],
            "source": "# We will also find the best K value using the Silhouette Score Method\nfrom sklearn.metrics import silhouette_score\n\nsil = []\nkmax = 10\n\n# dissimilarity would not be defined for a single cluster, thus, minimum number of clusters should be 2\nfor k in range(2, kmax+1):\n  kmeans = KMeans(n_clusters = k).fit(K_means_data_X_scaled)\n  labels = kmeans.labels_\n  sil.append(silhouette_score(K_means_data_X_scaled, labels, metric = 'euclidean'))"
        },
        {
            "cell_type": "code",
            "execution_count": null,
            "metadata": {},
            "outputs": [],
            "source": "plt.plot(K, sil, 'bx-') \nplt.xlabel('Values of K') \nplt.ylabel('Silhoutte Score') \nplt.title('The Silhouette Score Method') \nplt.show() "
        },
        {
            "cell_type": "code",
            "execution_count": null,
            "metadata": {},
            "outputs": [],
            "source": "# We can see that the clear elbow bend is at k=3 so this is the optimal value\n# set number of clusters\nkclusters = 3\n\n# run k-means clustering\nkmeans = KMeans(n_clusters=kclusters, random_state=0).fit(K_means_data_X_scaled)\n\n# check cluster labels generated for each row in the dataframe\nkmeans.labels_"
        },
        {
            "cell_type": "code",
            "execution_count": null,
            "metadata": {},
            "outputs": [],
            "source": "#Calculating the silhouette score of k=3\nprint(f'Silhouette Score(k=3): {silhouette_score(K_means_data_X_scaled, kmeans.labels_)}')"
        },
        {
            "cell_type": "code",
            "execution_count": null,
            "metadata": {
                "scrolled": true
            },
            "outputs": [],
            "source": "#we will create a new dataframe for merge the input data with the cluster output\nK_means_data_cluster = K_means_data.copy()\nK_means_data_cluster['Cluster'] = kmeans.labels_\nK_means_data_cluster.sort_values(by='Cluster')\nK_means_data_cluster[K_means_data_cluster['City/Municipality'] == 'Passi']"
        },
        {
            "cell_type": "code",
            "execution_count": null,
            "metadata": {
                "scrolled": true
            },
            "outputs": [],
            "source": "plt.figure(figsize=(15,15))\nsns.scatterplot(K_means_data_X_scaled['City/Municipality Revenue'], K_means_data_X_scaled['Venue Category'],hue=K_means_data_cluster['Cluster'], palette='pastel', s=300)\nplt.ticklabel_format(style='plain', axis='y')\n\nplt.scatter(kmeans.cluster_centers_[0:, 0], kmeans.cluster_centers_[0:, 1], s=90, c='yellow', label = 'Centroids')\nplt.scatter(kmeans.cluster_centers_[1:, 0], kmeans.cluster_centers_[1:, 1], s=90, c='yellow', label = 'Centroids')\nplt.scatter(kmeans.cluster_centers_[2:, 0], kmeans.cluster_centers_[2:, 1], s=90, c='yellow', label = 'Centroids')\nplt.title('Clusters of Cities/Municipalities')\nplt.show()"
        },
        {
            "cell_type": "markdown",
            "metadata": {},
            "source": "## Analysis:\n\n<b>Cluster 0 - Low # of known venues and Revenue is less than half of the highest revenue count in the whole Iloilo Province\n\nCluster 1 - High # of known venues and Revenue is the highest revenue count in the whole Iloilo Province\n\nCluster 2 - High # of known venues and Revenue is less than half of the highest revenue count in the whole Iloilo Province</b>\n\n\nPassi City belongs to Cluster 0 where there is low number of known venues and its revenue is less than half of the highest revenue count in the whole Iloilo Province.\n\nBased on the provided output of our model, Passi City's revenue compared to the maximum contributor, Iloilo City, is still very low. \n\nGiven the fact that Iloilo City is the capital of Iloilo province, it is more known to tourists and businessmen. We can assume that one factor can be that the marketing and publicity is better than that of Passi City and it helped increase the revenue of the city. <b>The proof of this assumption is a good consideration for the next milestone of this project.</b>\n\nAccording to our analysis, to increase the revenue, we can consider improving the tourism sector of Passi City by boosting the marketing and publicity of the city's tourist spots and businesses to attract more tourists and businessmen/investors."
        },
        {
            "cell_type": "markdown",
            "metadata": {},
            "source": "## Suggestion:\n"
        },
        {
            "cell_type": "markdown",
            "metadata": {},
            "source": "With the data we used for this project, we can suggest insights of what kind of business will be known to prospects in Passi City."
        },
        {
            "cell_type": "code",
            "execution_count": null,
            "metadata": {},
            "outputs": [],
            "source": "# one hot encoding\niloilo_onehot = pd.get_dummies(iloilo_venues[['Venue Category']], prefix=\"\", prefix_sep=\"\")\n\n# add City/Municipality column back to dataframe\niloilo_onehot['City/Municipality'] = iloilo_venues['City/Municipality'] \n\n# move City/Municipality column to the first column\nfixed_columns = [iloilo_onehot.columns[-1]] + list(iloilo_onehot.columns[:-1])\niloilo_onehot = iloilo_onehot[fixed_columns]\n\niloilo_onehot"
        },
        {
            "cell_type": "code",
            "execution_count": null,
            "metadata": {},
            "outputs": [],
            "source": "iloilo_grouped = iloilo_onehot.groupby('City/Municipality').mean().reset_index()\niloilo_grouped"
        },
        {
            "cell_type": "markdown",
            "metadata": {},
            "source": "### Here are the top known venue categories in Passi City based on Foursquare API data:"
        },
        {
            "cell_type": "code",
            "execution_count": null,
            "metadata": {},
            "outputs": [],
            "source": "num_top_venues = 5\n\npassi_top = pd.DataFrame(iloilo_grouped[iloilo_grouped['City/Municipality'] == 'Passi'].T.reset_index())\npassi_top.columns = ['venue','freq']\npassi_top = passi_top.iloc[1:]\npassi_top['freq'] = passi_top['freq'].astype(float)\npassi_top = passi_top.round({'freq': 2})\npassi_top = passi_top.sort_values('freq', ascending=False).reset_index(drop=True).head(num_top_venues)\npassi_top"
        },
        {
            "cell_type": "markdown",
            "metadata": {},
            "source": "### Here are the top known venue categories in Iloilo City based on Foursquare API data:"
        },
        {
            "cell_type": "code",
            "execution_count": null,
            "metadata": {},
            "outputs": [],
            "source": "num_top_venues = 20\n\niloilo_top = pd.DataFrame(iloilo_grouped[iloilo_grouped['City/Municipality'] == 'Iloilo City'].T.reset_index())\niloilo_top.columns = ['venue','freq']\niloilo_top = iloilo_top.iloc[1:]\niloilo_top['freq'] = iloilo_top['freq'].astype(float)\niloilo_top = iloilo_top.round({'freq': 2})\niloilo_top = iloilo_top.sort_values('freq', ascending=False).reset_index(drop=True).head(num_top_venues)\niloilo_top"
        },
        {
            "cell_type": "markdown",
            "metadata": {},
            "source": "### Here are the top known venue categories in Cluster 1 based on Foursquare API data:"
        },
        {
            "cell_type": "markdown",
            "metadata": {},
            "source": "Although the municipalities in Cluster 1 has many number of venues than that of Cluster 0 where Passi City is, we can still consider their top venues."
        },
        {
            "cell_type": "code",
            "execution_count": null,
            "metadata": {},
            "outputs": [],
            "source": "# add the cluster in the dataframe\niloilo_grouped_clust = iloilo_grouped.copy()\niloilo_grouped_clust['Cluster'] = K_means_data_cluster['Cluster']\ntemp = iloilo_grouped_clust[(iloilo_grouped_clust.loc[:,['Cluster']] != 1).all(axis=1)]\niloilo_grouped_clust = iloilo_grouped_clust.drop(temp.index)\niloilo_grouped_clust = iloilo_grouped_clust.drop(columns=['Cluster'])\niloilo_grouped_clust"
        },
        {
            "cell_type": "code",
            "execution_count": null,
            "metadata": {},
            "outputs": [],
            "source": "for hood in iloilo_grouped_clust['City/Municipality']:\n    print(\"----\"+hood+\"----\")\n    passi_top = pd.DataFrame(iloilo_grouped_clust[iloilo_grouped_clust['City/Municipality'] == hood].T.reset_index())\n    passi_top.columns = ['venue','freq']\n    passi_top = passi_top.iloc[1:]\n    passi_top['freq'] = passi_top['freq'].astype(float)\n    passi_top = passi_top.round({'freq': 2})\n    print(passi_top.sort_values('freq', ascending=False).reset_index(drop=True).head())\n    print('\\n')"
        },
        {
            "cell_type": "code",
            "execution_count": null,
            "metadata": {},
            "outputs": [],
            "source": ""
        },
        {
            "cell_type": "code",
            "execution_count": null,
            "metadata": {},
            "outputs": [],
            "source": ""
        }
    ],
    "metadata": {
        "kernelspec": {
            "display_name": "Python 3.7",
            "language": "python",
            "name": "python3"
        },
        "language_info": {
            "codemirror_mode": {
                "name": "ipython",
                "version": 3
            },
            "file_extension": ".py",
            "mimetype": "text/x-python",
            "name": "python",
            "nbconvert_exporter": "python",
            "pygments_lexer": "ipython3",
            "version": "3.7.9"
        }
    },
    "nbformat": 4,
    "nbformat_minor": 1
}